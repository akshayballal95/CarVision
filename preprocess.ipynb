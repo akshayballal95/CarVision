{
 "cells": [
  {
   "cell_type": "code",
   "execution_count": 16,
   "metadata": {},
   "outputs": [],
   "source": [
    "import os \n",
    "import pandas as pd\n",
    "\n",
    "cars = []\n",
    "\n",
    "# write code to go through all the files in the data folder and split the file name at _ \n",
    "\n",
    "for file in os.listdir(\"data\"):\n",
    "    nomenclature = file.split(\"_\")\n",
    "\n",
    "    car = {\n",
    "        \"file_name\": file,\n",
    "        \"make\": nomenclature[0],\n",
    "        \"model\": nomenclature[1],\n",
    "        \"year\": nomenclature[2],\n",
    "        \"msrp\": nomenclature[3],\n",
    "        \"front_wheel_size\": nomenclature[4],\n",
    "        \"horsepower\": nomenclature[5],\n",
    "        \"displacement\": nomenclature[6],\n",
    "        \"engine_type\": nomenclature[7],\n",
    "        \"width\": nomenclature[8],\n",
    "        \"height\": nomenclature[9],\n",
    "        \"length\": nomenclature[10],\n",
    "        \"gas_mileage\": nomenclature[11],\n",
    "        \"drivetrain\": nomenclature[12],\n",
    "        \"passenger_capacity\": nomenclature[13],\n",
    "        \"passenger_doors\": nomenclature[14],\n",
    "        \"body_style\": nomenclature[15],\n",
    " }\n",
    "    \n",
    "    cars.append(car)\n",
    "\n",
    "\n",
    "df = pd.DataFrame(cars)"
   ]
  },
  {
   "cell_type": "code",
   "execution_count": 17,
   "metadata": {},
   "outputs": [],
   "source": [
    "make_labels = ['Honda', 'Hyundai', 'Toyota']\n",
    "filtered_df = df[df['make'].isin(make_labels)].filter(['file_name', 'make'])\n",
    "filtered_df.reset_index(inplace=True, drop=True)\n",
    "filtered_df['labels'] = pd.Categorical(filtered_df['make']).codes\n",
    "filtered_df.to_csv('labels.csv', index=False)"
   ]
  },
  {
   "cell_type": "code",
   "execution_count": 18,
   "metadata": {},
   "outputs": [],
   "source": [
    "from sklearn.model_selection import train_test_split\n",
    "train, test = train_test_split(filtered_df, test_size=0.2)\n",
    "\n",
    "train.to_csv('train.csv', index=False)\n",
    "test.to_csv('test.csv', index=False)\n"
   ]
  },
  {
   "cell_type": "code",
   "execution_count": 19,
   "metadata": {},
   "outputs": [
    {
     "data": {
      "text/plain": [
       "array([[<AxesSubplot:title={'center':'labels'}>]], dtype=object)"
      ]
     },
     "execution_count": 19,
     "metadata": {},
     "output_type": "execute_result"
    },
    {
     "data": {
      "image/png": "[encoded data removed]",
      "text/plain": [
       "<Figure size 640x480 with 1 Axes>"
      ]
     },
     "metadata": {},
     "output_type": "display_data"
    }
   ],
   "source": [
    "filtered_df.hist(column='labels')"
   ]
  },
  {
   "cell_type": "code",
   "execution_count": null,
   "metadata": {},
   "outputs": [],
   "source": []
  },
  {
   "cell_type": "code",
   "execution_count": null,
   "metadata": {},
   "outputs": [],
   "source": []
  }
 ],
 "metadata": {
  "kernelspec": {
   "display_name": "autodrive-env",
   "language": "python",
   "name": "python3"
  },
  "language_info": {
   "codemirror_mode": {
    "name": "ipython",
    "version": 3
   },
   "file_extension": ".py",
   "mimetype": "text/x-python",
   "name": "python",
   "nbconvert_exporter": "python",
   "pygments_lexer": "ipython3",
   "version": "3.7.16"
  },
  "orig_nbformat": 4
 },
 "nbformat": 4,
 "nbformat_minor": 2
}
